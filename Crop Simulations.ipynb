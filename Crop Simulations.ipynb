{
 "cells": [
  {
   "cell_type": "code",
   "execution_count": 585,
   "id": "47852aa9-8b2b-4a27-9d3c-f8fff79e9534",
   "metadata": {},
   "outputs": [
    {
     "name": "stdout",
     "output_type": "stream",
     "text": [
      "Requirement already satisfied: pgeocode==0.5.0 in /Users/theron/.asdf/installs/python/3.11.0/lib/python3.11/site-packages (from -r requirements.txt (line 1)) (0.5.0)\n",
      "Requirement already satisfied: xarray==2024.6.0 in /Users/theron/.asdf/installs/python/3.11.0/lib/python3.11/site-packages (from -r requirements.txt (line 2)) (2024.6.0)\n",
      "Requirement already satisfied: h5netcdf==1.3.0 in /Users/theron/.asdf/installs/python/3.11.0/lib/python3.11/site-packages (from -r requirements.txt (line 3)) (1.3.0)\n",
      "Requirement already satisfied: matplotlib==3.9.1 in /Users/theron/.asdf/installs/python/3.11.0/lib/python3.11/site-packages (from -r requirements.txt (line 4)) (3.9.1)\n",
      "Requirement already satisfied: numbagg==0.8.1 in /Users/theron/.asdf/installs/python/3.11.0/lib/python3.11/site-packages (from -r requirements.txt (line 5)) (0.8.1)\n",
      "Requirement already satisfied: scipy==1.14.0 in /Users/theron/.asdf/installs/python/3.11.0/lib/python3.11/site-packages (from -r requirements.txt (line 6)) (1.14.0)\n",
      "Requirement already satisfied: cartopy==0.23.0 in /Users/theron/.asdf/installs/python/3.11.0/lib/python3.11/site-packages (from -r requirements.txt (line 7)) (0.23.0)\n",
      "Requirement already satisfied: requests in /Users/theron/.asdf/installs/python/3.11.0/lib/python3.11/site-packages (from pgeocode==0.5.0->-r requirements.txt (line 1)) (2.32.3)\n",
      "Requirement already satisfied: numpy in /Users/theron/.asdf/installs/python/3.11.0/lib/python3.11/site-packages (from pgeocode==0.5.0->-r requirements.txt (line 1)) (1.24.4)\n",
      "Requirement already satisfied: pandas in /Users/theron/.asdf/installs/python/3.11.0/lib/python3.11/site-packages (from pgeocode==0.5.0->-r requirements.txt (line 1)) (2.2.2)\n",
      "Requirement already satisfied: packaging>=23.1 in /Users/theron/.asdf/installs/python/3.11.0/lib/python3.11/site-packages (from xarray==2024.6.0->-r requirements.txt (line 2)) (24.1)\n",
      "Requirement already satisfied: h5py in /Users/theron/.asdf/installs/python/3.11.0/lib/python3.11/site-packages (from h5netcdf==1.3.0->-r requirements.txt (line 3)) (3.11.0)\n",
      "Requirement already satisfied: contourpy>=1.0.1 in /Users/theron/.asdf/installs/python/3.11.0/lib/python3.11/site-packages (from matplotlib==3.9.1->-r requirements.txt (line 4)) (1.2.1)\n",
      "Requirement already satisfied: cycler>=0.10 in /Users/theron/.asdf/installs/python/3.11.0/lib/python3.11/site-packages (from matplotlib==3.9.1->-r requirements.txt (line 4)) (0.12.1)\n",
      "Requirement already satisfied: fonttools>=4.22.0 in /Users/theron/.asdf/installs/python/3.11.0/lib/python3.11/site-packages (from matplotlib==3.9.1->-r requirements.txt (line 4)) (4.53.1)\n",
      "Requirement already satisfied: kiwisolver>=1.3.1 in /Users/theron/.asdf/installs/python/3.11.0/lib/python3.11/site-packages (from matplotlib==3.9.1->-r requirements.txt (line 4)) (1.4.5)\n",
      "Requirement already satisfied: pillow>=8 in /Users/theron/.asdf/installs/python/3.11.0/lib/python3.11/site-packages (from matplotlib==3.9.1->-r requirements.txt (line 4)) (10.3.0)\n",
      "Requirement already satisfied: pyparsing>=2.3.1 in /Users/theron/.asdf/installs/python/3.11.0/lib/python3.11/site-packages (from matplotlib==3.9.1->-r requirements.txt (line 4)) (3.1.2)\n",
      "Requirement already satisfied: python-dateutil>=2.7 in /Users/theron/.asdf/installs/python/3.11.0/lib/python3.11/site-packages (from matplotlib==3.9.1->-r requirements.txt (line 4)) (2.9.0.post0)\n",
      "Requirement already satisfied: numba in /Users/theron/.asdf/installs/python/3.11.0/lib/python3.11/site-packages (from numbagg==0.8.1->-r requirements.txt (line 5)) (0.60.0)\n",
      "Requirement already satisfied: shapely>=1.7 in /Users/theron/.asdf/installs/python/3.11.0/lib/python3.11/site-packages (from cartopy==0.23.0->-r requirements.txt (line 7)) (2.0.4)\n",
      "Requirement already satisfied: pyshp>=2.3 in /Users/theron/.asdf/installs/python/3.11.0/lib/python3.11/site-packages (from cartopy==0.23.0->-r requirements.txt (line 7)) (2.3.1)\n",
      "Requirement already satisfied: pyproj>=3.3.1 in /Users/theron/.asdf/installs/python/3.11.0/lib/python3.11/site-packages (from cartopy==0.23.0->-r requirements.txt (line 7)) (3.6.1)\n",
      "Requirement already satisfied: pytz>=2020.1 in /Users/theron/.asdf/installs/python/3.11.0/lib/python3.11/site-packages (from pandas->pgeocode==0.5.0->-r requirements.txt (line 1)) (2024.1)\n",
      "Requirement already satisfied: tzdata>=2022.7 in /Users/theron/.asdf/installs/python/3.11.0/lib/python3.11/site-packages (from pandas->pgeocode==0.5.0->-r requirements.txt (line 1)) (2024.1)\n",
      "Requirement already satisfied: certifi in /Users/theron/.asdf/installs/python/3.11.0/lib/python3.11/site-packages (from pyproj>=3.3.1->cartopy==0.23.0->-r requirements.txt (line 7)) (2024.6.2)\n",
      "Requirement already satisfied: six>=1.5 in /Users/theron/.asdf/installs/python/3.11.0/lib/python3.11/site-packages (from python-dateutil>=2.7->matplotlib==3.9.1->-r requirements.txt (line 4)) (1.16.0)\n",
      "Requirement already satisfied: llvmlite<0.44,>=0.43.0dev0 in /Users/theron/.asdf/installs/python/3.11.0/lib/python3.11/site-packages (from numba->numbagg==0.8.1->-r requirements.txt (line 5)) (0.43.0)\n",
      "Requirement already satisfied: charset-normalizer<4,>=2 in /Users/theron/.asdf/installs/python/3.11.0/lib/python3.11/site-packages (from requests->pgeocode==0.5.0->-r requirements.txt (line 1)) (3.3.2)\n",
      "Requirement already satisfied: idna<4,>=2.5 in /Users/theron/.asdf/installs/python/3.11.0/lib/python3.11/site-packages (from requests->pgeocode==0.5.0->-r requirements.txt (line 1)) (3.7)\n",
      "Requirement already satisfied: urllib3<3,>=1.21.1 in /Users/theron/.asdf/installs/python/3.11.0/lib/python3.11/site-packages (from requests->pgeocode==0.5.0->-r requirements.txt (line 1)) (1.26.19)\n",
      "\n",
      "\u001b[1m[\u001b[0m\u001b[34;49mnotice\u001b[0m\u001b[1;39;49m]\u001b[0m\u001b[39;49m A new release of pip available: \u001b[0m\u001b[31;49m22.3\u001b[0m\u001b[39;49m -> \u001b[0m\u001b[32;49m24.1.2\u001b[0m\n",
      "\u001b[1m[\u001b[0m\u001b[34;49mnotice\u001b[0m\u001b[1;39;49m]\u001b[0m\u001b[39;49m To update, run: \u001b[0m\u001b[32;49mpip3 install --upgrade pip\u001b[0m\n",
      "Reshimming asdf python...\n"
     ]
    }
   ],
   "source": [
    "!pip install -r requirements.txt"
   ]
  },
  {
   "cell_type": "code",
   "execution_count": 799,
   "id": "92b63be5-1a13-4dfa-856a-5f8d5a560579",
   "metadata": {},
   "outputs": [
    {
     "data": {
      "text/plain": [
       "<module 'crop_sim' from '/Users/theron/code/crop-models/crop_sim.py'>"
      ]
     },
     "execution_count": 799,
     "metadata": {},
     "output_type": "execute_result"
    }
   ],
   "source": [
    "import crop_sim\n",
    "import importlib\n",
    "importlib.reload(crop_sim)"
   ]
  },
  {
   "cell_type": "code",
   "execution_count": null,
   "id": "862dcdb0-2cbe-4e2f-9ade-d639c5e99867",
   "metadata": {},
   "outputs": [],
   "source": [
    "%matplotlib widget\n",
    "\n",
    "# Select your crop of interest (replace 'Maize' with your desired crop)\n",
    "crop_name = 'Allium cepa' #onion\n",
    "crop_name= \"Lycopersicon esculentum\" # Tomatoes\n",
    "# crop_name = \"Brassica juncea\" # Mustard greens\n",
    "# crop_name = \"Vigna unguiculata\"\n",
    "# crop_name = \"Asparagus officinalis\" # asparagus\n",
    "# crop_name = \"Ipomoea batatas\" # sweet potato\n",
    "# crop_name = \"Solanum tuberosum\" # Potato\n",
    "# crop_name = \"Cynara scolymus\" # artichoke\n",
    "bolting = False\n",
    "frost_tolerance = 0\n",
    "\n",
    "# 93922 monterey county\n",
    "\n",
    "# short day: 11-12, long=14;16\n",
    "min_day = 0\n",
    "max_day = 24\n",
    "crop_sim.all_in_one(\"78704\", crop_name, bolting, min_day, max_day)"
   ]
  },
  {
   "cell_type": "code",
   "execution_count": 645,
   "id": "c04b384e-2dd5-43e1-a414-3fd3c0600f9e",
   "metadata": {},
   "outputs": [],
   "source": [
    "# crop_sim.plot_suitability(view_window, growing_season_suitability, daily_suitability, lat, lon, crop_name, cutoff)"
   ]
  },
  {
   "cell_type": "code",
   "execution_count": 631,
   "id": "95c85e3a-da95-4785-8f91-07b42138bdb9",
   "metadata": {},
   "outputs": [],
   "source": [
    "# suit = growing_season_suitability[view_window]\n",
    "# x = suit.where(suit > 0)\n",
    "# y = xr.where(suit > 0, suit, 0)\n",
    "# x == y\n",
    "# print(suit)"
   ]
  },
  {
   "cell_type": "code",
   "execution_count": 646,
   "id": "4dbb5edf-877e-40b7-ac58-1099ee29ec51",
   "metadata": {},
   "outputs": [],
   "source": [
    "# plt.subplots(figsize=(12, 6))\n",
    "\n",
    "# # plt.plot(suit.time, .isel(lat=lat,lon=lon), color=\"green\")\n",
    "# plt.plot(suit.time, suit.isel(lat=lat,lon=lon))\n",
    "# # from scipy.signal import savgol_filter\n",
    "# # # Apply Savitzky-Golay filter\n",
    "# # window_length = 13  # Must be odd\n",
    "# # polyorder = 3\n",
    "\n",
    "# # smoothed_data = xr.apply_ufunc(\n",
    "# #     savgol_filter,\n",
    "# #     suit,\n",
    "# #     kwargs={\"window_length\": window_length, \"polyorder\": polyorder},\n",
    "# #     input_core_dims=[[\"time\"]],\n",
    "# #     output_core_dims=[[\"time\"]],  # Output is a single value per input\n",
    "# #     output_dtypes=[suit.dtype]\n",
    "# # )\n",
    "# # plt.plot(smoothed_data.isel(lat=lat,lon=lon))\n",
    "# plt.show()"
   ]
  },
  {
   "cell_type": "code",
   "execution_count": null,
   "id": "5c6fc4f5-d10d-4e2e-b340-739620f4dd84",
   "metadata": {},
   "outputs": [],
   "source": []
  }
 ],
 "metadata": {
  "kernelspec": {
   "display_name": "Python 3 (ipykernel)",
   "language": "python",
   "name": "python3"
  },
  "language_info": {
   "codemirror_mode": {
    "name": "ipython",
    "version": 3
   },
   "file_extension": ".py",
   "mimetype": "text/x-python",
   "name": "python",
   "nbconvert_exporter": "python",
   "pygments_lexer": "ipython3",
   "version": "3.11.0"
  }
 },
 "nbformat": 4,
 "nbformat_minor": 5
}
